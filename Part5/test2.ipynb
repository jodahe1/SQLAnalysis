{
 "cells": [
  {
   "cell_type": "code",
   "execution_count": 12,
   "metadata": {},
   "outputs": [],
   "source": [
    "import pandas as pd\n",
    "import psycopg2\n",
    "from sklearn.model_selection import train_test_split\n",
    "from sklearn.ensemble import RandomForestClassifier\n",
    "from sklearn.metrics import classification_report, confusion_matrix\n",
    "from sklearn.preprocessing import StandardScaler\n",
    "import matplotlib.pyplot as plt\n",
    "import seaborn as sns"
   ]
  },
  {
   "cell_type": "code",
   "execution_count": 2,
   "metadata": {},
   "outputs": [],
   "source": [
    "# Database Configuration\n",
    "DB_CONFIG = {\n",
    "    'host': 'localhost',\n",
    "    'database': 'SQLTEST',\n",
    "    'user': 'postgres',\n",
    "    'password': 'Admin'\n",
    "}\n",
    "\n",
    "# Step 1: Establish a database connection\n",
    "connection = psycopg2.connect(**DB_CONFIG)\n"
   ]
  },
  {
   "cell_type": "code",
   "execution_count": 3,
   "metadata": {},
   "outputs": [],
   "source": [
    "\n",
    "# Step 2: Define the SQL query\n",
    "sql_query = \"\"\"\n",
    "WITH last_order_date AS (\n",
    "    SELECT \n",
    "        MAX(created_at) AS max_date\n",
    "    FROM \n",
    "        public.orders\n",
    ")\n",
    "SELECT \n",
    "    p.id AS product_id,\n",
    "    pn.name AS product_name,\n",
    "    c.name AS category_name,\n",
    "    pvs.stock AS current_stock,\n",
    "    pvp.price AS current_price,\n",
    "    COALESCE(SUM(o.total_amount), 0) AS total_sales_last_week,\n",
    "    COALESCE(AVG(pr.rating), 0) AS average_rating,\n",
    "    COUNT(DISTINCT o.id) AS total_orders_last_week,\n",
    "    (SELECT COUNT(*) \n",
    "     FROM public.orders o2 \n",
    "     WHERE o2.created_at >= (SELECT max_date FROM last_order_date) - INTERVAL '30 days' \n",
    "     AND o2.id IN (SELECT pr2.order_id FROM public.product_ratings pr2 WHERE pr2.product_id = p.id)) AS total_orders_last_month,\n",
    "    (SELECT COUNT(*) \n",
    "     FROM public.orders o3 \n",
    "     WHERE o3.created_at >= (SELECT max_date FROM last_order_date) - INTERVAL '7 days' \n",
    "     AND o3.id IN (SELECT pr3.order_id FROM public.product_ratings pr3 WHERE pr3.product_id = p.id)) AS total_orders_last_7_days,\n",
    "    pv.weight AS product_weight,\n",
    "    pv.status AS variation_status,\n",
    "    -- Assuming you have a way to identify if a product sold out in the next week\n",
    "    CASE WHEN pvs.stock = 0 THEN 1 ELSE 0 END AS sold_out_next_week\n",
    "FROM \n",
    "    public.products p\n",
    "JOIN \n",
    "    public.product_names pn ON p.name_id = pn.id\n",
    "JOIN \n",
    "    public.categories c ON pn.category_id = c.id\n",
    "JOIN \n",
    "    public.product_variations pv ON p.id = pv.product_id\n",
    "JOIN \n",
    "    public.product_variation_stocks pvs ON pv.id = pvs.product_variation_id\n",
    "LEFT JOIN \n",
    "    public.product_variation_prices pvp ON pv.id = pvp.product_variation_id\n",
    "LEFT JOIN \n",
    "    public.product_ratings pr ON pr.product_id = p.id\n",
    "LEFT JOIN \n",
    "    public.orders o ON o.id = pr.order_id AND o.created_at >= (SELECT max_date FROM last_order_date) - INTERVAL '7 days'\n",
    "GROUP BY \n",
    "    p.id, pn.name, c.name, pvs.stock, pvp.price, pv.weight, pv.status;\n",
    "\"\"\""
   ]
  },
  {
   "cell_type": "code",
   "execution_count": 4,
   "metadata": {},
   "outputs": [
    {
     "name": "stderr",
     "output_type": "stream",
     "text": [
      "C:\\Users\\huawei\\AppData\\Local\\Temp\\ipykernel_3048\\1710655366.py:2: UserWarning: pandas only supports SQLAlchemy connectable (engine/connection) or database string URI or sqlite3 DBAPI2 connection. Other DBAPI2 objects are not tested. Please consider using SQLAlchemy.\n",
      "  data = pd.read_sql(sql_query, connection)\n"
     ]
    }
   ],
   "source": [
    "\n",
    "# Step 3: Load dataset using the SQL query\n",
    "data = pd.read_sql(sql_query, connection)\n"
   ]
  },
  {
   "cell_type": "code",
   "execution_count": 5,
   "metadata": {},
   "outputs": [],
   "source": [
    "# Step 4: Prepare features and target\n",
    "X = data[[\"current_stock\", \"current_price\", \"total_sales_last_week\", \"average_rating\", \"product_weight\"]]\n",
    "y = data[\"sold_out_next_week\"]  # Binary target variable\n"
   ]
  },
  {
   "cell_type": "code",
   "execution_count": 16,
   "metadata": {},
   "outputs": [],
   "source": [
    "# Step 5: Split the dataset with stratification\n",
    "X_train, X_test, y_train, y_test = train_test_split(X, y, test_size=0.2, random_state=42, stratify=y)\n"
   ]
  },
  {
   "cell_type": "code",
   "execution_count": 7,
   "metadata": {},
   "outputs": [],
   "source": [
    "# Step 6: Feature Scaling\n",
    "scaler = StandardScaler()\n",
    "X_train_scaled = scaler.fit_transform(X_train)\n",
    "X_test_scaled = scaler.transform(X_test)"
   ]
  },
  {
   "cell_type": "code",
   "execution_count": 17,
   "metadata": {},
   "outputs": [
    {
     "data": {
      "text/html": [
       "<style>#sk-container-id-2 {color: black;background-color: white;}#sk-container-id-2 pre{padding: 0;}#sk-container-id-2 div.sk-toggleable {background-color: white;}#sk-container-id-2 label.sk-toggleable__label {cursor: pointer;display: block;width: 100%;margin-bottom: 0;padding: 0.3em;box-sizing: border-box;text-align: center;}#sk-container-id-2 label.sk-toggleable__label-arrow:before {content: \"▸\";float: left;margin-right: 0.25em;color: #696969;}#sk-container-id-2 label.sk-toggleable__label-arrow:hover:before {color: black;}#sk-container-id-2 div.sk-estimator:hover label.sk-toggleable__label-arrow:before {color: black;}#sk-container-id-2 div.sk-toggleable__content {max-height: 0;max-width: 0;overflow: hidden;text-align: left;background-color: #f0f8ff;}#sk-container-id-2 div.sk-toggleable__content pre {margin: 0.2em;color: black;border-radius: 0.25em;background-color: #f0f8ff;}#sk-container-id-2 input.sk-toggleable__control:checked~div.sk-toggleable__content {max-height: 200px;max-width: 100%;overflow: auto;}#sk-container-id-2 input.sk-toggleable__control:checked~label.sk-toggleable__label-arrow:before {content: \"▾\";}#sk-container-id-2 div.sk-estimator input.sk-toggleable__control:checked~label.sk-toggleable__label {background-color: #d4ebff;}#sk-container-id-2 div.sk-label input.sk-toggleable__control:checked~label.sk-toggleable__label {background-color: #d4ebff;}#sk-container-id-2 input.sk-hidden--visually {border: 0;clip: rect(1px 1px 1px 1px);clip: rect(1px, 1px, 1px, 1px);height: 1px;margin: -1px;overflow: hidden;padding: 0;position: absolute;width: 1px;}#sk-container-id-2 div.sk-estimator {font-family: monospace;background-color: #f0f8ff;border: 1px dotted black;border-radius: 0.25em;box-sizing: border-box;margin-bottom: 0.5em;}#sk-container-id-2 div.sk-estimator:hover {background-color: #d4ebff;}#sk-container-id-2 div.sk-parallel-item::after {content: \"\";width: 100%;border-bottom: 1px solid gray;flex-grow: 1;}#sk-container-id-2 div.sk-label:hover label.sk-toggleable__label {background-color: #d4ebff;}#sk-container-id-2 div.sk-serial::before {content: \"\";position: absolute;border-left: 1px solid gray;box-sizing: border-box;top: 0;bottom: 0;left: 50%;z-index: 0;}#sk-container-id-2 div.sk-serial {display: flex;flex-direction: column;align-items: center;background-color: white;padding-right: 0.2em;padding-left: 0.2em;position: relative;}#sk-container-id-2 div.sk-item {position: relative;z-index: 1;}#sk-container-id-2 div.sk-parallel {display: flex;align-items: stretch;justify-content: center;background-color: white;position: relative;}#sk-container-id-2 div.sk-item::before, #sk-container-id-2 div.sk-parallel-item::before {content: \"\";position: absolute;border-left: 1px solid gray;box-sizing: border-box;top: 0;bottom: 0;left: 50%;z-index: -1;}#sk-container-id-2 div.sk-parallel-item {display: flex;flex-direction: column;z-index: 1;position: relative;background-color: white;}#sk-container-id-2 div.sk-parallel-item:first-child::after {align-self: flex-end;width: 50%;}#sk-container-id-2 div.sk-parallel-item:last-child::after {align-self: flex-start;width: 50%;}#sk-container-id-2 div.sk-parallel-item:only-child::after {width: 0;}#sk-container-id-2 div.sk-dashed-wrapped {border: 1px dashed gray;margin: 0 0.4em 0.5em 0.4em;box-sizing: border-box;padding-bottom: 0.4em;background-color: white;}#sk-container-id-2 div.sk-label label {font-family: monospace;font-weight: bold;display: inline-block;line-height: 1.2em;}#sk-container-id-2 div.sk-label-container {text-align: center;}#sk-container-id-2 div.sk-container {/* jupyter's `normalize.less` sets `[hidden] { display: none; }` but bootstrap.min.css set `[hidden] { display: none !important; }` so we also need the `!important` here to be able to override the default hidden behavior on the sphinx rendered scikit-learn.org. See: https://github.com/scikit-learn/scikit-learn/issues/21755 */display: inline-block !important;position: relative;}#sk-container-id-2 div.sk-text-repr-fallback {display: none;}</style><div id=\"sk-container-id-2\" class=\"sk-top-container\"><div class=\"sk-text-repr-fallback\"><pre>RandomForestClassifier(class_weight=&#x27;balanced&#x27;, random_state=42)</pre><b>In a Jupyter environment, please rerun this cell to show the HTML representation or trust the notebook. <br />On GitHub, the HTML representation is unable to render, please try loading this page with nbviewer.org.</b></div><div class=\"sk-container\" hidden><div class=\"sk-item\"><div class=\"sk-estimator sk-toggleable\"><input class=\"sk-toggleable__control sk-hidden--visually\" id=\"sk-estimator-id-2\" type=\"checkbox\" checked><label for=\"sk-estimator-id-2\" class=\"sk-toggleable__label sk-toggleable__label-arrow\">RandomForestClassifier</label><div class=\"sk-toggleable__content\"><pre>RandomForestClassifier(class_weight=&#x27;balanced&#x27;, random_state=42)</pre></div></div></div></div></div>"
      ],
      "text/plain": [
       "RandomForestClassifier(class_weight='balanced', random_state=42)"
      ]
     },
     "execution_count": 17,
     "metadata": {},
     "output_type": "execute_result"
    }
   ],
   "source": [
    "# Step 7: Train the model with class weights\n",
    "model = RandomForestClassifier(n_estimators=100, random_state=42, class_weight='balanced')\n",
    "model.fit(X_train_scaled, y_train)"
   ]
  },
  {
   "cell_type": "code",
   "execution_count": 18,
   "metadata": {},
   "outputs": [],
   "source": [
    "# Step 8: Make predictions\n",
    "y_pred = model.predict(X_test_scaled)"
   ]
  },
  {
   "cell_type": "code",
   "execution_count": 19,
   "metadata": {},
   "outputs": [
    {
     "name": "stdout",
     "output_type": "stream",
     "text": [
      "[0 0 0 0 0 0 0 0 0 0 0 0 0 0 0 0 0 0 0 0 0 0 0 0 0 0 0 0 0 0 0 0 0 0 0 0 0\n",
      " 0 0 0 0 0 0 0 0 0 0]\n"
     ]
    }
   ],
   "source": [
    "print(y_pred)"
   ]
  },
  {
   "cell_type": "code",
   "execution_count": 20,
   "metadata": {},
   "outputs": [
    {
     "name": "stdout",
     "output_type": "stream",
     "text": [
      "[[47]]\n",
      "              precision    recall  f1-score   support\n",
      "\n",
      "           0       1.00      1.00      1.00        47\n",
      "\n",
      "    accuracy                           1.00        47\n",
      "   macro avg       1.00      1.00      1.00        47\n",
      "weighted avg       1.00      1.00      1.00        47\n",
      "\n"
     ]
    }
   ],
   "source": [
    "# Step 9: Evaluate the model\n",
    "conf_matrix = confusion_matrix(y_test, y_pred)\n",
    "print(conf_matrix)\n",
    "print(classification_report(y_test, y_pred))"
   ]
  },
  {
   "cell_type": "code",
   "execution_count": 21,
   "metadata": {},
   "outputs": [
    {
     "data": {
      "image/png": "[encoded data removed]",
      "text/plain": [
       "<Figure size 1000x600 with 1 Axes>"
      ]
     },
     "metadata": {},
     "output_type": "display_data"
    }
   ],
   "source": [
    "# Step 10: Feature Importance Plot\n",
    "importance = model.feature_importances_\n",
    "features = X.columns\n",
    "plt.figure(figsize=(10, 6))\n",
    "sns.barplot(x=importance, y=features)\n",
    "plt.title('Feature Importance')\n",
    "plt.xlabel('Importance Score')\n",
    "plt.ylabel('Features')\n",
    "plt.show()"
   ]
  },
  {
   "cell_type": "code",
   "execution_count": 14,
   "metadata": {},
   "outputs": [
    {
     "data": {
      "image/png": "[encoded data removed]",
      "text/plain": [
       "<Figure size 800x600 with 2 Axes>"
      ]
     },
     "metadata": {},
     "output_type": "display_data"
    }
   ],
   "source": [
    "\n",
    "# Step 11: Confusion Matrix Heatmap\n",
    "conf_matrix = confusion_matrix(y_test, y_pred)\n",
    "plt.figure(figsize=(8, 6))\n",
    "sns.heatmap(conf_matrix, annot=True, fmt='d', cmap='Blues', \n",
    "            xticklabels=['Not Sold Out', 'Sold Out'], \n",
    "            yticklabels=['Not Sold Out', 'Sold Out'])\n",
    "plt.title('Confusion Matrix')\n",
    "plt.xlabel('Predicted')\n",
    "plt.ylabel('Actual')\n",
    "plt.show()"
   ]
  },
  {
   "cell_type": "code",
   "execution_count": 22,
   "metadata": {},
   "outputs": [
    {
     "name": "stdout",
     "output_type": "stream",
     "text": [
      "Model predicts only one class; cannot plot predicted probabilities.\n"
     ]
    }
   ],
   "source": [
    "# Step 12: Distribution of Predicted Probabilities\n",
    "y_prob = model.predict_proba(X_test_scaled)\n",
    "\n",
    "# Check if the model predicts both classes\n",
    "if y_prob.shape[1] > 1:\n",
    "    # Only proceed if there are two classes\n",
    "    y_prob = y_prob[:, 1]\n",
    "    plt.figure(figsize=(10, 6))\n",
    "    sns.histplot(y_prob, bins=30, kde=True)\n",
    "    plt.title('Distribution of Predicted Probabilities')\n",
    "    plt.xlabel('Predicted Probability of Selling Out')\n",
    "    plt.ylabel('Frequency')\n",
    "    plt.axvline(x=0.5, color='red', linestyle='--')  # Threshold line\n",
    "    plt.show()\n",
    "else:\n",
    "    print(\"Model predicts only one class; cannot plot predicted probabilities.\")\n"
   ]
  },
  {
   "cell_type": "code",
   "execution_count": 23,
   "metadata": {},
   "outputs": [
    {
     "name": "stdout",
     "output_type": "stream",
     "text": [
      "Class Distribution:\n",
      "sold_out_next_week\n",
      "0    234\n",
      "Name: count, dtype: int64\n",
      "Missing Values in Features:\n",
      "current_stock            0\n",
      "current_price            0\n",
      "total_sales_last_week    0\n",
      "average_rating           0\n",
      "product_weight           0\n",
      "dtype: int64\n",
      "Unique Values in Features:\n",
      "current_stock            40\n",
      "current_price            60\n",
      "total_sales_last_week     2\n",
      "average_rating            2\n",
      "product_weight           15\n",
      "dtype: int64\n",
      "Predictions Distribution:\n",
      "0    47\n",
      "Name: count, dtype: int64\n"
     ]
    }
   ],
   "source": [
    "# Check the distribution of the target variable\n",
    "print(\"Class Distribution:\")\n",
    "print(y.value_counts())\n",
    "\n",
    "# Check for missing values in features\n",
    "print(\"Missing Values in Features:\")\n",
    "print(X.isnull().sum())\n",
    "\n",
    "# Check the number of unique values in each feature\n",
    "print(\"Unique Values in Features:\")\n",
    "print(X.nunique())\n",
    "\n",
    "# Check model predictions\n",
    "print(\"Predictions Distribution:\")\n",
    "print(pd.Series(y_pred).value_counts())"
   ]
  },
  {
   "cell_type": "code",
   "execution_count": null,
   "metadata": {},
   "outputs": [],
   "source": [
    "\n",
    "# Step 10: Close the database connection\n",
    "connection.close()"
   ]
  }
 ],
 "metadata": {
  "kernelspec": {
   "display_name": "base",
   "language": "python",
   "name": "python3"
  },
  "language_info": {
   "codemirror_mode": {
    "name": "ipython",
    "version": 3
   },
   "file_extension": ".py",
   "mimetype": "text/x-python",
   "name": "python",
   "nbconvert_exporter": "python",
   "pygments_lexer": "ipython3",
   "version": "3.11.7"
  }
 },
 "nbformat": 4,
 "nbformat_minor": 2
}
