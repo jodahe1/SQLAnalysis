{
 "cells": [
  {
   "cell_type": "code",
   "execution_count": 1,
   "metadata": {},
   "outputs": [],
   "source": [
    "import pandas as pd\n",
    "import matplotlib.pyplot as plt\n",
    "import numpy as np\n"
   ]
  },
  {
   "cell_type": "code",
   "execution_count": 2,
   "metadata": {},
   "outputs": [],
   "source": [
    "\n",
    "group_deals_data = {\n",
    "    'total_revenue': [50000],\n",
    "    'total_deals': [200],\n",
    "    'average_revenue_per_group_deal': [250]\n",
    "}\n",
    "group_deals_df = pd.DataFrame(group_deals_data)"
   ]
  },
  {
   "cell_type": "code",
   "execution_count": 3,
   "metadata": {},
   "outputs": [],
   "source": [
    "\n",
    "single_deals_data = {\n",
    "    'net_sales': [30000],\n",
    "    'total_deals': [150]\n",
    "}\n",
    "single_deals_df = pd.DataFrame(single_deals_data)\n"
   ]
  },
  {
   "cell_type": "code",
   "execution_count": 4,
   "metadata": {},
   "outputs": [],
   "source": [
    "group_total_revenue = group_deals_df['total_revenue'].iloc[0]\n",
    "single_net_sales = single_deals_df['net_sales'].iloc[0]\n",
    "group_total_deals = group_deals_df['total_deals'].iloc[0]\n",
    "single_total_deals = single_deals_df['total_deals'].iloc[0]\n",
    "group_avg_revenue = group_deals_df['average_revenue_per_group_deal'].iloc[0]\n",
    "single_avg_revenue = single_net_sales / single_total_deals"
   ]
  },
  {
   "cell_type": "markdown",
   "metadata": {},
   "source": [
    "# 1. Total Revenue Comparison"
   ]
  },
  {
   "cell_type": "code",
   "execution_count": null,
   "metadata": {},
   "outputs": [],
   "source": [
    "\n",
    "plt.figure(figsize=(10, 6))\n",
    "plt.bar(['Group Deals', 'Single Deals'], [group_total_revenue, single_net_sales], color=['blue', 'orange'])\n",
    "plt.title('Total Revenue Comparison')\n",
    "plt.ylabel('Revenue')\n",
    "plt.show()"
   ]
  },
  {
   "cell_type": "markdown",
   "metadata": {},
   "source": [
    "# 2. Total Deals Comparison"
   ]
  },
  {
   "cell_type": "code",
   "execution_count": null,
   "metadata": {},
   "outputs": [],
   "source": [
    "\n",
    "plt.figure(figsize=(10, 6))\n",
    "plt.bar(['Group Deals', 'Single Deals'], [group_total_deals, single_total_deals], color=['blue', 'orange'])\n",
    "plt.title('Total Deals Comparison')\n",
    "plt.ylabel('Number of Deals')\n",
    "plt.show()"
   ]
  },
  {
   "cell_type": "markdown",
   "metadata": {},
   "source": [
    "\n",
    "# 3. Average Revenue Per Deal"
   ]
  },
  {
   "cell_type": "code",
   "execution_count": null,
   "metadata": {},
   "outputs": [],
   "source": [
    "\n",
    "plt.figure(figsize=(10, 6))\n",
    "plt.bar(['Group Deals', 'Single Deals'], [group_avg_revenue, single_avg_revenue], color=['blue', 'orange'])\n",
    "plt.title('Average Revenue Per Deal')\n",
    "plt.ylabel('Average Revenue')\n",
    "plt.show()"
   ]
  },
  {
   "cell_type": "markdown",
   "metadata": {},
   "source": [
    "# 4. Revenue Contribution Percentage"
   ]
  },
  {
   "cell_type": "code",
   "execution_count": null,
   "metadata": {},
   "outputs": [],
   "source": [
    "\n",
    "revenue_contributions = [group_total_revenue, single_net_sales]\n",
    "labels = ['Group Deals', 'Single Deals']\n",
    "plt.figure(figsize=(10, 6))\n",
    "plt.pie(revenue_contributions, labels=labels, autopct='%1.1f%%', colors=['blue', 'orange'], startangle=140)\n",
    "plt.title('Revenue Contribution Percentage')\n",
    "plt.show()"
   ]
  }
 ],
 "metadata": {
  "kernelspec": {
   "display_name": "base",
   "language": "python",
   "name": "python3"
  },
  "language_info": {
   "codemirror_mode": {
    "name": "ipython",
    "version": 3
   },
   "file_extension": ".py",
   "mimetype": "text/x-python",
   "name": "python",
   "nbconvert_exporter": "python",
   "pygments_lexer": "ipython3",
   "version": "3.11.7"
  }
 },
 "nbformat": 4,
 "nbformat_minor": 2
}
